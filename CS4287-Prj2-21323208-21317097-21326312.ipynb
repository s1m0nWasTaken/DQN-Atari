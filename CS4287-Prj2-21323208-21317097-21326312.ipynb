{
 "cells": [
  {
   "cell_type": "markdown",
   "metadata": {},
   "source": [
    "# Contributors : \n",
    "- Boris Bobylkov - 21317097\n",
    "- Italo Terto da Silva - 21326312\n",
    "- Szymon Szulc - 21323208\n",
    "\n",
    "# Objectives\n",
    "To implement a Reinforcement Learning (RL) agent using a Deep Q Network (DQN) applied to the one of the environments in OpenAI Gym for an Atari game. \n",
    "This assignment is marked out of 30 marks and includes extra credit worth 5 marks.\n",
    "\n",
    "# Submission\n",
    "1. Why Reinforcement Learning is the machine learning paradigm of choice for this task (3 marks)\n",
    "2. The Gym Environment (3 marks):\n",
    "3. Implementation (15 marks):\n",
    "    a. Capture and pre-processing of the data (3 marks).\n",
    "    b. The network structure (4 marks).\n",
    "    c. A very clear and extremely detailed discussion on the code where the Q learning update applied to the weights (3 marks).\n",
    "    For example: what is the update, how is the error calculated?\n",
    "    d. Independently researched concepts such as random seed initialisation, the impact of\n",
    "    regularisers on scores, and techniques to counter catastrophic forgetting and maximisation\n",
    "    bias (5 marks). An attempt must be made to code and evaluate the efficacy of one of these\n",
    "    concepts.\n",
    "\n",
    "Page 2\n",
    "Coding fragments and/or diagrams should be included to illustrate the concepts under discussion.\n",
    "4. Plots (3 marks)\n",
    "5. Videos and plots with short accompanying explanations of the information conveyed (1 marks).\n",
    "6. Evaluation of the results (5 marks):\n",
    "    a. How does one evaluate the performance of the RL agent?\n",
    "    b. Are the metrics that we have seen to date relevant?\n",
    "7. References (P/F)."
   ]
  }
 ],
 "metadata": {
  "language_info": {
   "name": "python"
  }
 },
 "nbformat": 4,
 "nbformat_minor": 2
}
