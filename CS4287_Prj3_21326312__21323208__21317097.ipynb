{
  "nbformat": 4,
  "nbformat_minor": 0,
  "metadata": {
    "colab": {
      "provenance": [],
      "gpuType": "A100",
      "machine_shape": "hm"
    },
    "kernelspec": {
      "name": "python3",
      "display_name": "Python 3"
    },
    "language_info": {
      "name": "python"
    },
    "accelerator": "GPU"
  },
  "cells": [
    {
      "cell_type": "markdown",
      "source": [
        "# **CS4187 - Assignment 3**\n",
        "\n",
        "## **Students**\n",
        "\n",
        "Boris Bobylkov - *21317097*\n",
        "\n",
        "Italo Terto da Silva - *21326312*\n",
        "\n",
        "Symon Szulc - *21323208*\n",
        "\n",
        "Code compiles with no errors."
      ],
      "metadata": {
        "id": "ngMtRpJo6pog"
      }
    },
    {
      "cell_type": "markdown",
      "source": [
        "### **Resources:**\n",
        "\n",
        "*   List item\n",
        "*   List item\n",
        "\n"
      ],
      "metadata": {
        "id": "h_c4oYQC66mr"
      }
    },
    {
      "cell_type": "markdown",
      "source": [
        "## 1. **Why Reinforcement Learning is the machine learning paradigm of choice for this task?**\n",
        "\n",
        "The Reinforment Learning was the chosen ML paradigm for this task because"
      ],
      "metadata": {
        "id": "1MCU0eeY7xF_"
      }
    },
    {
      "cell_type": "markdown",
      "source": [
        "## **2. The Gym Environment**\n",
        "\n",
        "💪"
      ],
      "metadata": {
        "id": "444zzaAm8APt"
      }
    },
    {
      "cell_type": "markdown",
      "source": [
        "## **3. Implementation**"
      ],
      "metadata": {
        "id": "Y0zi5WtJ8Lba"
      }
    },
    {
      "cell_type": "markdown",
      "source": [
        "### Importing Libraries"
      ],
      "metadata": {
        "id": "QFWIsbYk7A5A"
      }
    },
    {
      "cell_type": "code",
      "source": [
        "import numpy as np\n",
        "import matplotlib.pyplot as plt"
      ],
      "metadata": {
        "id": "sSdf0S2L7FoI"
      },
      "execution_count": null,
      "outputs": []
    },
    {
      "cell_type": "markdown",
      "source": [
        "### **a. Capture and pre-processing of the data**"
      ],
      "metadata": {
        "id": "Uy6nR_qQ8ULt"
      }
    },
    {
      "cell_type": "code",
      "source": [],
      "metadata": {
        "id": "FLvLlZy58aCu"
      },
      "execution_count": null,
      "outputs": []
    },
    {
      "cell_type": "markdown",
      "source": [
        "### **b. The Network Structure**"
      ],
      "metadata": {
        "id": "AlnFxqYT8acg"
      }
    },
    {
      "cell_type": "code",
      "source": [],
      "metadata": {
        "id": "z7x0xGEB8uo0"
      },
      "execution_count": null,
      "outputs": []
    },
    {
      "cell_type": "markdown",
      "source": [
        "## **4. Plots:**"
      ],
      "metadata": {
        "id": "x3BH57Hy8uCY"
      }
    },
    {
      "cell_type": "code",
      "source": [],
      "metadata": {
        "id": "1x9eYm3b8ywN"
      },
      "execution_count": null,
      "outputs": []
    },
    {
      "cell_type": "markdown",
      "source": [
        "## **5. Videos and plots with short accompanying explanations of the information conveyed**\n",
        "\n",
        "Also no idea about this"
      ],
      "metadata": {
        "id": "IdI24h1y80Bw"
      }
    },
    {
      "cell_type": "markdown",
      "source": [
        "## **6. Evaluation of the results**\n",
        "\n",
        "a. How does one evaluate the performance of the RL agent?\n",
        "\n",
        "b. Are the metrics that we have seen to date relevant?"
      ],
      "metadata": {
        "id": "WqG3AFii9JOU"
      }
    }
  ]
}